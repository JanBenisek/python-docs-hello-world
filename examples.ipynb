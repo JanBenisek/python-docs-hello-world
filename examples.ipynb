{
 "metadata": {
  "language_info": {
   "codemirror_mode": {
    "name": "ipython",
    "version": 3
   },
   "file_extension": ".py",
   "mimetype": "text/x-python",
   "name": "python",
   "nbconvert_exporter": "python",
   "pygments_lexer": "ipython3",
   "version": "3.6.7-final"
  },
  "orig_nbformat": 2,
  "kernelspec": {
   "name": "python3",
   "display_name": "Python 3"
  }
 },
 "nbformat": 4,
 "nbformat_minor": 2,
 "cells": [
  {
   "source": [
    "## Example of usage - workout REST API\n",
    "\n",
    "https://requests.readthedocs.io/en/master/user/quickstart/"
   ],
   "cell_type": "markdown",
   "metadata": {}
  },
  {
   "cell_type": "code",
   "execution_count": 1,
   "metadata": {},
   "outputs": [],
   "source": [
    "import requests"
   ]
  },
  {
   "source": [
    "## Workout session logging API"
   ],
   "cell_type": "markdown",
   "metadata": {}
  },
  {
   "source": [
    "### GET request\n",
    "Let's see one of our workout session."
   ],
   "cell_type": "markdown",
   "metadata": {}
  },
  {
   "cell_type": "code",
   "execution_count": 2,
   "metadata": {},
   "outputs": [
    {
     "output_type": "execute_result",
     "data": {
      "text/plain": [
       "{'sessionID': '2',\n",
       " 'sessionStart': '2020-11-02 13:32',\n",
       " 'category': 'gym',\n",
       " 'workout': {'push-up': {'reps': [20, 20, 20], 'weight': [0, 0, 0]},\n",
       "  'rows': {'reps': [10, 10, 10], 'weight': [0, 0, 0]}}}"
      ]
     },
     "metadata": {},
     "execution_count": 2
    }
   ],
   "source": [
    "r = requests.get('http://127.0.0.1:5000/v1/WorkoutSession/2')\n",
    "r.json()"
   ]
  },
  {
   "source": [
    "Error message if `sessionID` does not exist."
   ],
   "cell_type": "markdown",
   "metadata": {}
  },
  {
   "cell_type": "code",
   "execution_count": 3,
   "metadata": {},
   "outputs": [
    {
     "output_type": "execute_result",
     "data": {
      "text/plain": [
       "{'sessionID': '7',\n",
       " 'sessionStart': '2020-11-15 16:05',\n",
       " 'category': 'gym',\n",
       " 'workout': {'dips': {'reps': [7, 7, 7], 'weight': [13, 18, 24]},\n",
       "  'pull-ups': {'reps': [5, 5, 5], 'weight': [30, 30, 30]}}}"
      ]
     },
     "metadata": {},
     "execution_count": 3
    }
   ],
   "source": [
    "r = requests.get('http://127.0.0.1:5000/v1/WorkoutSession/20')\n",
    "r.json()"
   ]
  },
  {
   "source": [
    "### POST request\n",
    "We add one new gym session"
   ],
   "cell_type": "markdown",
   "metadata": {}
  },
  {
   "cell_type": "code",
   "execution_count": 4,
   "metadata": {},
   "outputs": [],
   "source": [
    "payload = {'session': {\n",
    "\t\"id\": \"8\",\n",
    "\t\"sessionID\": \"8\",\n",
    "\t\"sessionStart\": \"2020-11-15 16:05\",\n",
    "\t\"category\": \"gym\",\n",
    "\t\"workout\":\n",
    "\t\t{\n",
    "\t\t\"dips\": {\"reps\": [7, 7, 7],\n",
    "\t\t\t     \"weight\": [13, 18, 24]},\n",
    "\t\t\"pull-ups\": {\"reps\": [5, 5, 5],\n",
    "\t\t\t         \"weight\": [30, 30, 30]}\n",
    "\n",
    "\t\t}\n",
    "    }\n",
    "}"
   ]
  },
  {
   "cell_type": "code",
   "execution_count": 5,
   "metadata": {},
   "outputs": [
    {
     "output_type": "execute_result",
     "data": {
      "text/plain": [
       "{'id': '8',\n",
       " 'sessionID': '8',\n",
       " 'sessionStart': '2020-11-15 16:05',\n",
       " 'category': 'gym',\n",
       " 'workout': {'dips': {'reps': [7, 7, 7], 'weight': [13, 18, 24]},\n",
       "  'pull-ups': {'reps': [5, 5, 5], 'weight': [30, 30, 30]}}}"
      ]
     },
     "metadata": {},
     "execution_count": 5
    }
   ],
   "source": [
    "r = requests.post('http://127.0.0.1:5000/v1/WorkoutSession', json=payload)\n",
    "r.json()"
   ]
  },
  {
   "source": [
    "### PUT request\n",
    "Modification of our workout"
   ],
   "cell_type": "markdown",
   "metadata": {}
  },
  {
   "cell_type": "code",
   "execution_count": 6,
   "metadata": {},
   "outputs": [],
   "source": [
    "payload = {'session': {\n",
    "\t\"id\": \"6\",\n",
    "\t\"sessionID\": \"6\",\n",
    "\t\"sessionStart\": \"2020-11-15 16:05\",\n",
    "\t\"category\": \"gym\",\n",
    "\t\"workout\":\n",
    "\t\t{\n",
    "\t\t\"dips\": {\"reps\": [7, 7, 7],\n",
    "\t\t\t     \"weight\": [40, 40, 40]}, #CHANGE HERE\n",
    "\t\t\"pull-ups\": {\"reps\": [5, 5, 5],\n",
    "\t\t\t         \"weight\": [30, 30, 30]}\n",
    "\n",
    "\t\t}\n",
    "    }\n",
    "}"
   ]
  },
  {
   "cell_type": "code",
   "execution_count": 7,
   "metadata": {},
   "outputs": [
    {
     "output_type": "execute_result",
     "data": {
      "text/plain": [
       "{'sessionID': '6',\n",
       " 'sessionStart': '2020-11-15 16:05',\n",
       " 'category': 'gym',\n",
       " 'workout': {'dips': {'reps': [7, 7, 7], 'weight': [40, 40, 40]},\n",
       "  'pull-ups': {'reps': [5, 5, 5], 'weight': [30, 30, 30]}}}"
      ]
     },
     "metadata": {},
     "execution_count": 7
    }
   ],
   "source": [
    "r = requests.put('http://127.0.0.1:5000/v1/WorkoutSession/6', json=payload)\n",
    "r.json()"
   ]
  },
  {
   "source": [
    "### DELETE request\n",
    "And finally, let's delete one of our session."
   ],
   "cell_type": "markdown",
   "metadata": {}
  },
  {
   "cell_type": "code",
   "execution_count": 8,
   "metadata": {},
   "outputs": [
    {
     "output_type": "execute_result",
     "data": {
      "text/plain": [
       "{'sessionID': '6',\n",
       " 'sessionStart': '2020-11-15 16:05',\n",
       " 'category': 'gym',\n",
       " 'workout': {'dips': {'reps': [7, 7, 7], 'weight': [13, 18, 24]},\n",
       "  'pull-ups': {'reps': [5, 5, 5], 'weight': [30, 30, 30]}}}"
      ]
     },
     "metadata": {},
     "execution_count": 8
    }
   ],
   "source": [
    "r = requests.delete('http://127.0.0.1:5000/v1/WorkoutSession/6')\n",
    "r.json()"
   ]
  },
  {
   "source": [
    "## Let's see all workout sessions"
   ],
   "cell_type": "markdown",
   "metadata": {}
  },
  {
   "cell_type": "code",
   "execution_count": 9,
   "metadata": {},
   "outputs": [
    {
     "output_type": "execute_result",
     "data": {
      "text/plain": [
       "[{'sessionID': '2',\n",
       "  'sessionStart': '2020-11-05 08:20',\n",
       "  'category': 'run',\n",
       "  'workout': {'distanceKm': 25.6, 'durarationMins': 312.53}},\n",
       " {'sessionID': '3',\n",
       "  'sessionStart': '2020-11-06 09:42',\n",
       "  'category': 'gym',\n",
       "  'workout': {'push-up': {'reps': [30, 30, 30], 'weight': [0, 0, 0]},\n",
       "   'rows': {'reps': [15, 15, 15], 'weight': [0, 0, 0]}}},\n",
       " {'sessionID': '4',\n",
       "  'sessionStart': '2020-11-03 07:20',\n",
       "  'category': 'gym',\n",
       "  'workout': {'dips': {'reps': [8, 8, 8], 'weight': [0, 10, 10]},\n",
       "   'pull-ups': {'reps': [9, 9, 9], 'weight': [10, 10, 10]}}},\n",
       " {'sessionID': '2',\n",
       "  'sessionStart': '2020-11-02 13:32',\n",
       "  'category': 'gym',\n",
       "  'workout': {'push-up': {'reps': [20, 20, 20], 'weight': [0, 0, 0]},\n",
       "   'rows': {'reps': [10, 10, 10], 'weight': [0, 0, 0]}}},\n",
       " {'sessionID': '1',\n",
       "  'sessionStart': '2020-11-04 09:14',\n",
       "  'category': 'run',\n",
       "  'workout': {'distanceKm': 10.6, 'durarationMins': 50.5}},\n",
       " {'sessionID': '5',\n",
       "  'sessionStart': '2020-11-16 19:06',\n",
       "  'category': 'run',\n",
       "  'workout': {'distance_km': 10, 'duraration_mins': 45}},\n",
       " {'sessionID': '7',\n",
       "  'sessionStart': '2020-11-15 16:05',\n",
       "  'category': 'gym',\n",
       "  'workout': {'dips': {'reps': [7, 7, 7], 'weight': [13, 18, 24]},\n",
       "   'pull-ups': {'reps': [5, 5, 5], 'weight': [30, 30, 30]}}},\n",
       " {'sessionID': '8',\n",
       "  'sessionStart': '2020-11-15 16:05',\n",
       "  'category': 'gym',\n",
       "  'workout': {'dips': {'reps': [7, 7, 7], 'weight': [13, 18, 24]},\n",
       "   'pull-ups': {'reps': [5, 5, 5], 'weight': [30, 30, 30]}}}]"
      ]
     },
     "metadata": {},
     "execution_count": 9
    }
   ],
   "source": [
    "r = requests.get('http://127.0.0.1:5000/v1/all')\n",
    "r.json()"
   ]
  }
 ]
}